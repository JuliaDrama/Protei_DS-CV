{
 "cells": [
  {
   "cell_type": "code",
   "execution_count": 9,
   "id": "91d28deb-6135-4c60-bd36-279aab5ecc3b",
   "metadata": {},
   "outputs": [
    {
     "name": "stdout",
     "output_type": "stream",
     "text": [
      "1.25.2\n",
      "1.11.4\n",
      "1.3.2\n",
      "3.7.2\n"
     ]
    }
   ],
   "source": [
    "import numpy as np \n",
    "import scipy \n",
    "import sklearn \n",
    "from matplotlib import pyplot as plt\n",
    "import matplotlib\n",
    "print(np.__version__)\n",
    "print(scipy.__version__)\n",
    "print(sklearn.__version__)\n",
    "print(matplotlib.__version__)\n"
   ]
  },
  {
   "cell_type": "code",
   "execution_count": 10,
   "id": "b2d16721-1281-4252-b652-aa4b6e454b5f",
   "metadata": {},
   "outputs": [
    {
     "data": {
      "text/plain": [
       "False"
      ]
     },
     "execution_count": 10,
     "metadata": {},
     "output_type": "execute_result"
    }
   ],
   "source": [
    "\"__version__\" in dir(plt)  # проверка атрибута __version__ объекта plt\n"
   ]
  },
  {
   "cell_type": "code",
   "execution_count": null,
   "id": "c8060394-67e4-4d96-88ed-4b75ab3e8b2a",
   "metadata": {},
   "outputs": [],
   "source": []
  }
 ],
 "metadata": {
  "kernelspec": {
   "display_name": "Python 3 (ipykernel)",
   "language": "python",
   "name": "python3"
  },
  "language_info": {
   "codemirror_mode": {
    "name": "ipython",
    "version": 3
   },
   "file_extension": ".py",
   "mimetype": "text/x-python",
   "name": "python",
   "nbconvert_exporter": "python",
   "pygments_lexer": "ipython3",
   "version": "3.11.0"
  }
 },
 "nbformat": 4,
 "nbformat_minor": 5
}
